{
 "cells": [
  {
   "cell_type": "markdown",
   "metadata": {},
   "source": [
    "平面直角座標と緯度経度の変換\n",
    "=====\n",
    "***\n",
    "## 0. 参考\n",
    "\n",
    "- [計算式 - 国土地理院](http://vldb.gsi.go.jp/sokuchi/surveycalc/surveycalc/algorithm/xy2bl/xy2bl.htm)\n",
    "- [わかりやすい平面直角座標系](http://www.gsi.go.jp/sokuchikijun/jpc.html)\n",
    "- [平面直角座標系（平成十四年国土交通省告示第九号）](http://www.gsi.go.jp/LAW/heimencho.html)\n",
    "- [日本の測地系](http://www.gsi.go.jp/sokuchikijun/datum-main.html)"
   ]
  },
  {
   "cell_type": "markdown",
   "metadata": {},
   "source": [
    "## 1. 計算式（平面直角座標 -> 緯度経度）\n",
    "\n",
    "### 1.1. 注意\n",
    "[国土地理院の計算式](http://vldb.gsi.go.jp/sokuchi/surveycalc/surveycalc/algorithm/xy2bl/xy2bl.htm)はラジアンと度がごっちゃになっていて曖昧なので微調整した。\n",
    "以下に出てくる三角関数はすべてラジアンを受け取り、逆三角関数はすべてラジアンを返すものとする。\n",
    "\n",
    "\n",
    "### 1.2. 記号\n",
    "\n",
    "- $x, y$ : 緯度経度に変換したい$x, y$座標$[m]$\n",
    "- $\\phi_0, \\lambda_0$：平面直角座標系原点の緯度経度$[rad]$（日本には19個あるらしい:[わかりやすい平面直角座標系](http://www.gsi.go.jp/sokuchikijun/jpc.html), [平面直角座標系（平成十四年国土交通省告示第九号）](http://www.gsi.go.jp/LAW/heimencho.html)）\n",
    "- $a, F$：楕円体の長半径$[m]$及び逆扁平率（値は[日本の測地系](http://www.gsi.go.jp/sokuchikijun/datum-main.html)参照。準拠楕円体はITRF座標系GRS80楕円体で良いらしい）\n",
    "> 2001年以前の測地基準点成果は、緯度・経度においては日本測地系に基づいた数値で準拠楕円体はベッセル楕円体でしたが、現在の測地測量成果は世界測地系（測地成果2011）と呼び、準拠楕円体はITRF座標系GRS80楕円体です。[日本測地系と世界測地系](http://www.gsi.go.jp/sokuchikijun/datum-main.html#p5)\n",
    "- $m_0$：平面直角座標系の$x$軸上における縮尺係数(0.9999)"
   ]
  },
  {
   "cell_type": "markdown",
   "metadata": {},
   "source": [
    "### 1.3. 計算\n",
    "1.2.に記した$x, y, \\phi_0, \\lambda_0, a, F, m_0$を既知として、平面直角座標$x, y$を変換した緯度$\\phi$と経度$\\lambda$を計算する\n",
    "\n",
    "#### (1) $n, A_i, \\beta_i, \\delta_i$ の計算\n",
    "逆扁平率$F$をもとに以下のような$n$を定める。\n",
    "$$\n",
    "n = \\frac{1}{2F-1}\n",
    "$$\n",
    "この$n$から以下の $A_i(i=0, 1, ..., 5), \\: \\beta _i(i=1, 2, ..., 5), \\: \\delta_i(i=1, 2, ..., 6)$を定義する。\n",
    "\n",
    "- $A_i(i=0, 1, ..., 5)$\n",
    "$$\n",
    "\\begin{eqnarray}\n",
    "  \\begin{cases}\n",
    "    A_0 =  1 + \\frac{n^2}{4} + \\frac{n^4}{64} & \\\\\n",
    "    A_1 =  -\\frac{3}{2} \\bigl( n-\\frac{n^3}{8}-\\frac{n^5}{64}  \\bigr) & \\\\\n",
    "    A_2 =  \\frac{15}{16} \\bigl( n^2-\\frac{n^4}{4}  \\bigr) & \\\\\n",
    "    A_3 =  -\\frac{35}{48} \\bigl( n^3-\\frac{5}{16}n^5  \\bigr) & \\\\\n",
    "    A_4 =  \\frac{315}{512} n^4 & \\\\\n",
    "    A_5 =  -\\frac{693}{1280}n^5 &\n",
    "  \\end{cases}\n",
    "\\end{eqnarray}\n",
    "$$\n",
    "\n",
    "- $\\beta _i(i=1, 2, ..., 5)$\n",
    "$$\n",
    "\\begin{eqnarray}\n",
    "  \\begin{cases}\n",
    "    \\beta_1 =  \\frac{1}{2}n - \\frac{2}{3}n^2 + \\frac{37}{96}n^3 -\\frac{1}{360}n^4 - \\frac{81}{512}n^5 & \\\\\n",
    "    \\beta_2 =  \\frac{1}{48}n^2 + \\frac{1}{15}n^3 - \\frac{437}{1440}n^4 + \\frac{46}{105}n^5 & \\\\\n",
    "    \\beta_3 =  \\frac{17}{480}n^3 - \\frac{37}{840}n^4 - \\frac{209}{4480}n^5 & \\\\\n",
    "    \\beta_4 =  \\frac{4397}{161280}n^4 - \\frac{11}{504}n^5 & \\\\\n",
    "    \\beta_5 =  \\frac{4583}{161280}n^5 &\n",
    "  \\end{cases}\n",
    "\\end{eqnarray}\n",
    "$$\n",
    "\n",
    "- $\\delta_i(i=1, 2, ..., 6)$\n",
    "$$\n",
    "\\begin{eqnarray}\n",
    "  \\begin{cases}\n",
    "    \\delta_1 =  2n - \\frac{2}{3}n^2 - 2n^3 + \\frac{116}{45}n^4 + \\frac{26}{45}n^5 - \\frac{2854}{675}n^6 & \\\\\n",
    "    \\delta_2 =  \\frac{7}{3}n^2 - \\frac{8}{5}n^3 - \\frac{227}{45}n^4 + \\frac{2704}{315}n^5 + \\frac{2323}{945}n^6 & \\\\\n",
    "    \\delta_3 =  \\frac{56}{15}n^3 - \\frac{136}{35}n^4 - \\frac{1262}{105}n^5 + \\frac{73814}{2835}n^6 & \\\\\n",
    "    \\delta_4 =  \\frac{4279}{630}n^4 - \\frac{332}{35}n^5 - \\frac{399572}{14175}n^6 & \\\\\n",
    "    \\delta_5 =  \\frac{4174}{315}n^5 - \\frac{144838}{6237}n^6 & \\\\\n",
    "    \\delta_6 =  \\frac{601676}{22275}n^6   &\n",
    "  \\end{cases}\n",
    "\\end{eqnarray}\n",
    "$$\n",
    "\n",
    "#### (2) $\\overline{S}_{\\phi_0}, \\overline{A}$ の計算\n",
    "今までで定義したものから以下のように $\\overline{S}_{\\phi_0}, \\overline{A}$を計算する。\n",
    "\n",
    "ここでは$\\phi_0$をラジアンとしているため、[国土地理院の計算式](http://vldb.gsi.go.jp/sokuchi/surveycalc/surveycalc/algorithm/xy2bl/xy2bl.htm)の$\\rho^{\"}$を除いていることに注意。\n",
    "$$\n",
    "\\overline{S}_{\\phi_0} = \\frac{m_0 a}{1+n} \\biggl( A_0 \\phi_0 + \\sum_{j=1}^5 A_j sin(2j\\phi_0) \\biggr)\n",
    "$$\n",
    "\n",
    "$$\n",
    "\\overline{A} = \\frac{m_0 a}{1+n} A_0\n",
    "$$\n",
    "\n",
    "#### (3) $\\xi, \\eta$ の計算\n",
    "(2)で計算した$\\overline{S}_{\\phi_0}, \\overline{A}$と変換したい座標$x, y$から、以下のように$\\xi, \\eta$を計算する。\n",
    "\\begin{eqnarray}\n",
    "  \\begin{cases}\n",
    "    \\xi = \\frac{x + \\overline{S}_{\\phi_0}}{\\overline{A}} & \\\\\n",
    "    \\eta = \\frac{y}{\\overline{A}} & \n",
    "  \\end{cases}\n",
    "\\end{eqnarray}\n",
    "\n",
    "#### (4) $\\xi^{'}, \\eta^{'}$ の計算\n",
    "(3)で計算した$\\xi, \\eta$と(1)で計算した$\\beta_i$から、以下のように$\\xi^{'}, \\eta^{'}$を計算する。\n",
    "$$\n",
    "\\begin{eqnarray}\n",
    "  \\begin{cases}\n",
    "    \\xi^{'} = \\xi - \\sum_{j=1}^5 \\beta_j sin(2j\\xi) cosh(2j\\eta) & \\\\\n",
    "    \\eta^{'} = \\eta - \\sum_{j=1}^5 \\beta_j cos(2j\\xi) sinh(2j\\eta) &\n",
    "  \\end{cases}\n",
    "\\end{eqnarray}\n",
    "$$\n",
    "\n",
    "#### (5) $\\chi$ の計算\n",
    "(4)で計算した $\\xi^{'}, \\eta^{'}$ から、以下のように $\\chi\\: [rad]$を計算する。\n",
    "\n",
    "$$\n",
    "\\chi = sin^{-1} \\biggl( \\frac{sin \\: \\xi^{'}}{cosh \\: \\eta{'}} \\biggr) \\:\\: [rad]\n",
    "$$\n",
    "\n",
    "#### (6) 緯度$\\phi$, 経度$\\lambda$の計算\n",
    "ここまでで求めたものから、以下のように緯度$\\phi$, 経度$\\lambda$ [rad]を計算する。\n",
    "ここでは$\\phi, \\lambda$ をラジアンとしているため、[国土地理院の計算式](http://vldb.gsi.go.jp/sokuchi/surveycalc/surveycalc/algorithm/xy2bl/xy2bl.htm)の$\\rho^{\"}$を除いていることに注意。\n",
    "\n",
    "- 緯度\n",
    "$$\n",
    "\\phi = \\chi + \\sum_{j=1}^6 \\delta_j sin(2j\\chi) \\:\\: [rad]\n",
    "$$\n",
    "- 経度\n",
    "$$\n",
    "\\lambda = \\lambda_0 + tan^{-1} \\biggl( \\frac{sinh \\: \\eta^{'}}{cos \\: \\xi{'}} \\biggr) \\:\\: [rad]\n",
    "$$"
   ]
  },
  {
   "cell_type": "markdown",
   "metadata": {},
   "source": [
    "## 2. 実装（平面直角座標 -> 緯度経度の関数）\n",
    "### 2.1. import"
   ]
  },
  {
   "cell_type": "code",
   "execution_count": 1,
   "metadata": {},
   "outputs": [],
   "source": [
    "import numpy as np"
   ]
  },
  {
   "cell_type": "markdown",
   "metadata": {},
   "source": [
    "### 2.2. 平面直角座標 -> 緯度経度の関数"
   ]
  },
  {
   "cell_type": "code",
   "execution_count": 2,
   "metadata": {},
   "outputs": [],
   "source": [
    "def calc_lat_lon(x, y, phi0_deg, lambda0_deg):\n",
    "    \"\"\" 平面直角座標を緯度経度に変換する\n",
    "    - input:\n",
    "        (x, y): 変換したいx, y座標[m]\n",
    "        (phi0_deg, lambda0_deg): 平面直角座標系原点の緯度・経度[度]（分・秒でなく小数であることに注意）\n",
    "    - output:\n",
    "        latitude:  緯度[度]\n",
    "        longitude: 経度[度]\n",
    "        * 小数点以下は分・秒ではないことに注意\n",
    "    \"\"\"\n",
    "    # 平面直角座標系原点をラジアンに直す\n",
    "    phi0_rad = np.deg2rad(phi0_deg)\n",
    "    lambda0_rad = np.deg2rad(lambda0_deg)\n",
    "    \n",
    "    # 補助関数\n",
    "    def A_array(n):\n",
    "        A0 = 1 + (n**2)/4. + (n**4)/64.\n",
    "        A1 = -     (3./2)*( n - (n**3)/8. - (n**5)/64. ) \n",
    "        A2 =     (15./16)*( n**2 - (n**4)/4. )\n",
    "        A3 = -   (35./48)*( n**3 - (5./16)*(n**5) )\n",
    "        A4 =   (315./512)*( n**4 )\n",
    "        A5 = -(693./1280)*( n**5 )\n",
    "        return np.array([A0, A1, A2, A3, A4, A5])\n",
    "  \n",
    "    def beta_array(n):\n",
    "        b0 = np.nan # dummy\n",
    "        b1 = (1./2)*n - (2./3)*(n**2) + (37./96)*(n**3) - (1./360)*(n**4) - (81./512)*(n**5)\n",
    "        b2 = (1./48)*(n**2) + (1./15)*(n**3) - (437./1440)*(n**4) + (46./105)*(n**5)\n",
    "        b3 = (17./480)*(n**3) - (37./840)*(n**4) - (209./4480)*(n**5)\n",
    "        b4 = (4397./161280)*(n**4) - (11./504)*(n**5)\n",
    "        b5 = (4583./161280)*(n**5)\n",
    "        return np.array([b0, b1, b2, b3, b4, b5])\n",
    "    \n",
    "    def delta_array(n):\n",
    "        d0 = np.nan # dummy\n",
    "        d1 = 2.*n - (2./3)*(n**2) - 2.*(n**3) + (116./45)*(n**4) + (26./45)*(n**5) - (2854./675)*(n**6)\n",
    "        d2 = (7./3)*(n**2) - (8./5)*(n**3) - (227./45)*(n**4) + (2704./315)*(n**5) + (2323./945)*(n**6)\n",
    "        d3 = (56./15)*(n**3) - (136./35)*(n**4) - (1262./105)*(n**5) + (73814./2835)*(n**6)\n",
    "        d4 = (4279./630)*(n**4) - (332./35)*(n**5) - (399572./14175)*(n**6)\n",
    "        d5 = (4174./315)*(n**5) - (144838./6237)*(n**6)\n",
    "        d6 = (601676./22275)*(n**6)\n",
    "        return np.array([d0, d1, d2, d3, d4, d5, d6])\n",
    "    \n",
    "    # 定数 (a, F: 世界測地系-測地基準系1980（GRS80）楕円体)\n",
    "    m0 = 0.9999 \n",
    "    a = 6378137.\n",
    "    F = 298.257222101\n",
    "    \n",
    "    # (1) n, A_i, beta_i, delta_iの計算\n",
    "    n = 1. / (2*F - 1)\n",
    "    A_array = A_array(n)\n",
    "    beta_array = beta_array(n)\n",
    "    delta_array = delta_array(n)\n",
    "        \n",
    "    # (2), S, Aの計算\n",
    "    A_ = ( (m0*a)/(1.+n) )*A_array[0]\n",
    "    S_ = ( (m0*a)/(1.+n) )*( A_array[0]*phi0_rad + np.dot(A_array[1:], np.sin(2*phi0_rad*np.arange(1,6))) )\n",
    "    \n",
    "    # (3) xi, etaの計算\n",
    "    xi = (x + S_) / A_\n",
    "    eta = y / A_\n",
    "\n",
    "    # (4) xi', eta'の計算\n",
    "    xi2 = xi - np.sum(np.multiply(beta_array[1:], \n",
    "                                  np.multiply(np.sin(2*xi*np.arange(1,6)),\n",
    "                                              np.cosh(2*eta*np.arange(1,6)))))\n",
    "    eta2 = eta - np.sum(np.multiply(beta_array[1:],\n",
    "                                   np.multiply(np.cos(2*xi*np.arange(1,6)),\n",
    "                                               np.sinh(2*eta*np.arange(1,6)))))\n",
    "    \n",
    "    # (5) chiの計算\n",
    "    chi = np.arcsin( np.sin(xi2)/np.cosh(eta2) ) # [rad]\n",
    "    latitude = chi + np.dot(delta_array[1:], np.sin(2*chi*np.arange(1, 7))) # [rad]\n",
    "\n",
    "    # (6) 緯度(latitude), 経度(longitude)の計算\n",
    "    longitude = lambda0_rad + np.arctan( np.sinh(eta2)/np.cos(xi2) ) # [rad]\n",
    "    \n",
    "    # ラジアンを度になおしてreturn\n",
    "    return np.rad2deg(latitude), np.rad2deg(longitude) # [deg]"
   ]
  },
  {
   "cell_type": "markdown",
   "metadata": {},
   "source": [
    "### 2.3. 実数の角度[度]を33°06′14.85664″みたいに度・分・秒表記のstringに変換する関数"
   ]
  },
  {
   "cell_type": "code",
   "execution_count": 3,
   "metadata": {},
   "outputs": [],
   "source": [
    "def show_angle(deg):\n",
    "    \"\"\" 小数点の角度[deg]を度,分,秒で表記 \"\"\"\n",
    "    d = int(np.floor(deg))\n",
    "    m = int(np.floor((deg%1) * 60))\n",
    "    s = ( ((deg%1)*60) % 1 ) * 60\n",
    "    return \"\"\" {0}°{1:02d}'{2}\" \"\"\".format(d, m, s) # 分は10の位を0埋めする"
   ]
  },
  {
   "cell_type": "markdown",
   "metadata": {},
   "source": [
    "### 2.4. テスト\n",
    "[国土地理院の換算サービス](http://vldb.gsi.go.jp/sokuchi/surveycalc/surveycalc/xy2blf.html)と比較\n",
    "\n",
    "-> OK"
   ]
  },
  {
   "cell_type": "code",
   "execution_count": 4,
   "metadata": {},
   "outputs": [
    {
     "name": "stdout",
     "output_type": "stream",
     "text": [
      " latitude:  33°06'14.856642798\" \n",
      "longitude:  131°14'35.3709252452\" \n"
     ]
    }
   ],
   "source": [
    "lat, lon = calc_lat_lon(11573.375, 22694.980, 33., 131.)\n",
    "print \" latitude: {0}\".format(show_angle(lat))\n",
    "print \"longitude: {0}\".format(show_angle(lon))"
   ]
  },
  {
   "cell_type": "markdown",
   "metadata": {},
   "source": [
    "## 3. 実装（緯度経度 -> 平面直角座標の関数）\n",
    "### 3.1. 緯度経度 -> 平面直角座標の関数"
   ]
  },
  {
   "cell_type": "code",
   "execution_count": 5,
   "metadata": {},
   "outputs": [],
   "source": [
    "def calc_xy(phi_deg, lambda_deg, phi0_deg, lambda0_deg):\n",
    "    \"\"\" 緯度経度を平面直角座標に変換する\n",
    "    - input:\n",
    "        (phi_deg, lambda_deg): 変換したい緯度・経度[度]（分・秒でなく小数であることに注意）\n",
    "        (phi0_deg, lambda0_deg): 平面直角座標系原点の緯度・経度[度]（分・秒でなく小数であることに注意）\n",
    "    - output:\n",
    "        x: 変換後の平面直角座標[m]\n",
    "        y: 変換後の平面直角座標[m]\n",
    "    \"\"\"\n",
    "    # 緯度経度・平面直角座標系原点をラジアンに直す\n",
    "    phi_rad = np.deg2rad(phi_deg)\n",
    "    lambda_rad = np.deg2rad(lambda_deg)\n",
    "    phi0_rad = np.deg2rad(phi0_deg)\n",
    "    lambda0_rad = np.deg2rad(lambda0_deg)\n",
    "    \n",
    "    # 補助関数\n",
    "    def A_array(n):\n",
    "        A0 = 1 + (n**2)/4. + (n**4)/64.\n",
    "        A1 = -     (3./2)*( n - (n**3)/8. - (n**5)/64. ) \n",
    "        A2 =     (15./16)*( n**2 - (n**4)/4. )\n",
    "        A3 = -   (35./48)*( n**3 - (5./16)*(n**5) )\n",
    "        A4 =   (315./512)*( n**4 )\n",
    "        A5 = -(693./1280)*( n**5 )\n",
    "        return np.array([A0, A1, A2, A3, A4, A5])\n",
    "  \n",
    "    def alpha_array(n):\n",
    "        a0 = np.nan # dummy\n",
    "        a1 = (1./2)*n - (2./3)*(n**2) + (5./16)*(n**3) + (41./180)*(n**4) - (127./288)*(n**5)\n",
    "        a2 = (13./48)*(n**2) - (3./5)*(n**3) + (557./1440)*(n**4) + (281./630)*(n**5)\n",
    "        a3 = (61./240)*(n**3) - (103./140)*(n**4) + (15061./26880)*(n**5)\n",
    "        a4 = (49561./161280)*(n**4) - (179./168)*(n**5)\n",
    "        a5 = (34729./80640)*(n**5)\n",
    "        return np.array([a0, a1, a2, a3, a4, a5])\n",
    "\n",
    "    # 定数 (a, F: 世界測地系-測地基準系1980（GRS80）楕円体)\n",
    "    m0 = 0.9999 \n",
    "    a = 6378137.\n",
    "    F = 298.257222101\n",
    "    \n",
    "    # (1) n, A_i, alpha_iの計算\n",
    "    n = 1. / (2*F - 1)\n",
    "    A_array = A_array(n)\n",
    "    alpha_array = alpha_array(n)\n",
    "        \n",
    "    # (2), S, Aの計算\n",
    "    A_ = ( (m0*a)/(1.+n) )*A_array[0] # [m]\n",
    "    S_ = ( (m0*a)/(1.+n) )*( A_array[0]*phi0_rad + np.dot(A_array[1:], np.sin(2*phi0_rad*np.arange(1,6))) ) # [m]\n",
    "    \n",
    "    # (3) lambda_c, lambda_sの計算\n",
    "    lambda_c = np.cos(lambda_rad - lambda0_rad)\n",
    "    lambda_s = np.sin(lambda_rad - lambda0_rad)\n",
    "    \n",
    "    # (4) t, t_の計算\n",
    "    t = np.sinh( np.arctanh(np.sin(phi_rad)) - ((2*np.sqrt(n)) / (1+n))*np.arctanh(((2*np.sqrt(n)) / (1+n)) * np.sin(phi_rad)) )\n",
    "    t_ = np.sqrt(1 + t*t)\n",
    "\n",
    "    # (5) xi', eta'の計算\n",
    "    xi2  = np.arctan(t / lambda_c) # [rad]\n",
    "    eta2 = np.arctanh(lambda_s / t_)\n",
    "    \n",
    "    # (6) x, yの計算\n",
    "    x = A_ * (xi2 + np.sum(np.multiply(alpha_array[1:],\n",
    "                                       np.multiply(np.sin(2*xi2*np.arange(1,6)),\n",
    "                                                   np.cosh(2*eta2*np.arange(1,6)))))) - S_ # [m]\n",
    "    y = A_ * (eta2 + np.sum(np.multiply(alpha_array[1:],\n",
    "                                        np.multiply(np.cos(2*xi2*np.arange(1,6)),\n",
    "                                                    np.sinh(2*eta2*np.arange(1,6)))))) # [m]\n",
    "    # return\n",
    "    return x, y # [m]"
   ]
  },
  {
   "cell_type": "markdown",
   "metadata": {},
   "source": [
    "### 3.2. テスト\n",
    "- [国土地理院の換算サービス](http://vldb.gsi.go.jp/sokuchi/surveycalc/surveycalc/bl2xyf.html)と比較"
   ]
  },
  {
   "cell_type": "code",
   "execution_count": 6,
   "metadata": {},
   "outputs": [
    {
     "name": "stdout",
     "output_type": "stream",
     "text": [
      "x, y = (11543.6883215, 22916.2435543)\n"
     ]
    }
   ],
   "source": [
    "x, y = calc_xy(36.103774791666666, 140.08785504166664, 36., 139+50./60)\n",
    "print \"x, y = ({0}, {1})\".format(x, y)"
   ]
  },
  {
   "cell_type": "markdown",
   "metadata": {},
   "source": [
    "-> OK"
   ]
  },
  {
   "cell_type": "markdown",
   "metadata": {},
   "source": [
    "- 日本の範囲（ざっくり）からランダムに緯度経度をとって来て、緯度経度 -> 平面直角座標 -> 緯度経度で元に戻ることを確認"
   ]
  },
  {
   "cell_type": "code",
   "execution_count": 7,
   "metadata": {},
   "outputs": [
    {
     "name": "stdout",
     "output_type": "stream",
     "text": [
      "Test passed!\n"
     ]
    }
   ],
   "source": [
    "for i in range(10000):\n",
    "    # 緯度経度を適当に取ってくる\n",
    "    lat = 20 + 25*np.random.rand()\n",
    "    lon = 120 + 30*np.random.rand()\n",
    "    # 平面直角座標に変換 平面直角座標系はとりあえず2系のみ\n",
    "    x, y = calc_xy(lat, lon, 33., 131.)\n",
    "    # 再び緯度経度に変換\n",
    "    lat2, lon2 = calc_lat_lon(x, y, 33., 131.)\n",
    "    assert ((lat-lat2)**2 + (lon-lon2)**2) < 0.001, \"lat, lon = ({0}, {1})\".format(lat, lon)\n",
    "print \"Test passed!\""
   ]
  },
  {
   "cell_type": "markdown",
   "metadata": {},
   "source": [
    "## 4. 鍋割山\n",
    "Folium (Leaflet.js)を使い、平面直角座標から鍋割山荘をプロットする。\n",
    "\n",
    "[Folium documentaion](https://folium.readthedocs.io/en/latest/index.html)"
   ]
  },
  {
   "cell_type": "markdown",
   "metadata": {},
   "source": [
    "### 4.1. import"
   ]
  },
  {
   "cell_type": "code",
   "execution_count": 8,
   "metadata": {},
   "outputs": [],
   "source": [
    "import folium"
   ]
  },
  {
   "cell_type": "markdown",
   "metadata": {},
   "source": [
    "### 4.2. 鍋割山荘の位置\n",
    "[国土地理院の換算サービス](http://vldb.gsi.go.jp/sokuchi/surveycalc/surveycalc/xy2blf.html)で「地図上で選択」を行うと、鍋割山荘の平面直角座標は\n",
    "$$\n",
    "(x, y) = (-61474,-62795) \\:\\: [m]\n",
    "$$\n",
    "また、平面直角座標系の原点は9系（36度0分0秒, 139度50分0秒）らしい。\n",
    "\n",
    "まずはこれを緯度経度に変換する。"
   ]
  },
  {
   "cell_type": "code",
   "execution_count": 9,
   "metadata": {},
   "outputs": [
    {
     "name": "stdout",
     "output_type": "stream",
     "text": [
      " latitude:  35°26'38.087211585\" \n",
      "longitude:  139°08'29.8934370248\" \n"
     ]
    }
   ],
   "source": [
    "nabewari_lat, nabewari_lon = calc_lat_lon(-61474, -62795, 36., 139+50./60)\n",
    "print \" latitude: {0}\".format(show_angle(nabewari_lat))\n",
    "print \"longitude: {0}\".format(show_angle(nabewari_lon))"
   ]
  },
  {
   "cell_type": "markdown",
   "metadata": {},
   "source": [
    "### 4.3. Foliumによるプロット\n",
    "計算された鍋割山荘の緯度経度を中心とし、国土地理院の[地理院タイル](https://maps.gsi.go.jp/development/ichiran.html)を利用して地図を描画する。\n",
    "\n",
    "鍋割山荘の位置にはマーカーを配置する。"
   ]
  },
  {
   "cell_type": "code",
   "execution_count": 10,
   "metadata": {
    "scrolled": false
   },
   "outputs": [
    {
     "data": {
      "text/html": [
       "<div style=\"width:100%;\"><div style=\"position:relative;width:100%;height:0;padding-bottom:60%;\"><iframe src=\"data:text/html;charset=utf-8;base64,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\" style=\"position:absolute;width:100%;height:100%;left:0;top:0;border:none !important;\" allowfullscreen webkitallowfullscreen mozallowfullscreen></iframe></div></div>"
      ],
      "text/plain": [
       "<folium.folium.Map at 0x10aa85d50>"
      ]
     },
     "execution_count": 10,
     "metadata": {},
     "output_type": "execute_result"
    }
   ],
   "source": [
    "# map\n",
    "nabewari_map = folium.Map(location=[nabewari_lat, nabewari_lon], zoom_start=15,\n",
    "           tiles='http://cyberjapandata.gsi.go.jp/xyz/std/{z}/{x}/{y}.png',\n",
    "           attr='&copy; <a href=\"https://maps.gsi.go.jp/development/ichiran.html\">地理院タイル</a> contributors')\n",
    "# marker\n",
    "folium.Marker([nabewari_lat, nabewari_lon], popup=u'鍋割山荘').add_to(nabewari_map)\n",
    "\n",
    "# plot inline with jupyter\n",
    "nabewari_map"
   ]
  },
  {
   "cell_type": "markdown",
   "metadata": {},
   "source": [
    "#### [色別標高図](https://maps.gsi.go.jp/development/ichiran.html#relief)を使ってみる"
   ]
  },
  {
   "cell_type": "code",
   "execution_count": 11,
   "metadata": {
    "scrolled": false
   },
   "outputs": [
    {
     "data": {
      "text/html": [
       "<div style=\"width:100%;\"><div style=\"position:relative;width:100%;height:0;padding-bottom:60%;\"><iframe src=\"data:text/html;charset=utf-8;base64,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\" style=\"position:absolute;width:100%;height:100%;left:0;top:0;border:none !important;\" allowfullscreen webkitallowfullscreen mozallowfullscreen></iframe></div></div>"
      ],
      "text/plain": [
       "<folium.folium.Map at 0x109a3dc10>"
      ]
     },
     "execution_count": 11,
     "metadata": {},
     "output_type": "execute_result"
    }
   ],
   "source": [
    "# map\n",
    "nabewari_map = folium.Map(location=[nabewari_lat, nabewari_lon], zoom_start=15,\n",
    "           tiles='https://cyberjapandata.gsi.go.jp/xyz/relief/{z}/{x}/{y}.png',\n",
    "           attr='&copy; <a href=\"https://maps.gsi.go.jp/development/ichiran.html\">地理院タイル</a> contributors')\n",
    "# marker\n",
    "folium.Marker([nabewari_lat, nabewari_lon], popup=u'鍋割山荘').add_to(nabewari_map)\n",
    "\n",
    "# plot inline with jupyter\n",
    "nabewari_map"
   ]
  }
 ],
 "metadata": {
  "kernelspec": {
   "display_name": "Python 2",
   "language": "python",
   "name": "python2"
  },
  "language_info": {
   "codemirror_mode": {
    "name": "ipython",
    "version": 2
   },
   "file_extension": ".py",
   "mimetype": "text/x-python",
   "name": "python",
   "nbconvert_exporter": "python",
   "pygments_lexer": "ipython2",
   "version": "2.7.14"
  },
  "toc": {
   "colors": {
    "hover_highlight": "#DAA520",
    "running_highlight": "#FF0000",
    "selected_highlight": "#FFD700"
   },
   "moveMenuLeft": true,
   "nav_menu": {
    "height": "85px",
    "width": "252px"
   },
   "navigate_menu": true,
   "number_sections": false,
   "sideBar": true,
   "threshold": 4,
   "toc_cell": false,
   "toc_section_display": "block",
   "toc_window_display": false
  },
  "widgets": {
   "state": {},
   "version": "1.0.0"
  }
 },
 "nbformat": 4,
 "nbformat_minor": 1
}
