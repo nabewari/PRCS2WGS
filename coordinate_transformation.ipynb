{
 "cells": [
  {
   "cell_type": "markdown",
   "metadata": {},
   "source": [
    "平面直角座標と緯度経度の変換\n",
    "=====\n",
    "***\n",
    "## 0. 参考\n",
    "\n",
    "- [計算式 - 国土地理院](http://vldb.gsi.go.jp/sokuchi/surveycalc/surveycalc/algorithm/xy2bl/xy2bl.htm)\n",
    "- [わかりやすい平面直角座標系](http://www.gsi.go.jp/sokuchikijun/jpc.html)\n",
    "- [平面直角座標系（平成十四年国土交通省告示第九号）](http://www.gsi.go.jp/LAW/heimencho.html)\n",
    "- [日本の測地系](http://www.gsi.go.jp/sokuchikijun/datum-main.html)"
   ]
  },
  {
   "cell_type": "markdown",
   "metadata": {},
   "source": [
    "## 1. 計算式（平面直角座標 -> 緯度経度）\n",
    "\n",
    "### 1.1. 注意\n",
    "[国土地理院の計算式](http://vldb.gsi.go.jp/sokuchi/surveycalc/surveycalc/algorithm/xy2bl/xy2bl.htm)はラジアンと度がごっちゃになっていて曖昧なので微調整した。\n",
    "以下に出てくる三角関数はすべてラジアンを受け取り、逆三角関数はすべてラジアンを返すものとする。\n",
    "\n",
    "\n",
    "### 1.2. 記号\n",
    "\n",
    "- $x, y$ : 緯度経度に変換したい$x, y$座標$[m]$\n",
    "- $\\phi_0, \\lambda_0$：平面直角座標系原点の緯度経度$[rad]$（日本には19個あるらしい:[わかりやすい平面直角座標系](http://www.gsi.go.jp/sokuchikijun/jpc.html), [平面直角座標系（平成十四年国土交通省告示第九号）](http://www.gsi.go.jp/LAW/heimencho.html)）\n",
    "- $a, F$：楕円体の長半径$[m]$及び逆扁平率（値は[日本の測地系](http://www.gsi.go.jp/sokuchikijun/datum-main.html)参照。準拠楕円体はITRF座標系GRS80楕円体で良いらしい）\n",
    "> 2001年以前の測地基準点成果は、緯度・経度においては日本測地系に基づいた数値で準拠楕円体はベッセル楕円体でしたが、現在の測地測量成果は世界測地系（測地成果2011）と呼び、準拠楕円体はITRF座標系GRS80楕円体です。[日本測地系と世界測地系](http://www.gsi.go.jp/sokuchikijun/datum-main.html#p5)\n",
    "- $m_0$：平面直角座標系の$x$軸上における縮尺係数(0.9999)"
   ]
  },
  {
   "cell_type": "markdown",
   "metadata": {},
   "source": [
    "### 1.3. 計算\n",
    "1.2.に記した$x, y, \\phi_0, \\lambda_0, a, F, m_0$を既知として、平面直角座標$x, y$を変換した緯度$\\phi$と経度$\\lambda$を計算する\n",
    "\n",
    "#### (1) $n, A_i, \\beta_i, \\delta_i$ の計算\n",
    "逆扁平率$F$をもとに以下のような$n$を定める。\n",
    "$$\n",
    "n = \\frac{1}{2F-1}\n",
    "$$\n",
    "この$n$から以下の $A_i(i=0, 1, ..., 5), \\: \\beta _i(i=1, 2, ..., 5), \\: \\delta_i(i=1, 2, ..., 6)$を定義する。\n",
    "\n",
    "- $A_i(i=0, 1, ..., 5)$\n",
    "$$\n",
    "\\begin{eqnarray}\n",
    "  \\begin{cases}\n",
    "    A_0 =  1 + \\frac{n^2}{4} + \\frac{n^4}{64} & \\\\\n",
    "    A_1 =  -\\frac{3}{2} \\bigl( n-\\frac{n^3}{8}-\\frac{n^5}{64}  \\bigr) & \\\\\n",
    "    A_2 =  \\frac{15}{16} \\bigl( n^2-\\frac{n^4}{4}  \\bigr) & \\\\\n",
    "    A_3 =  -\\frac{35}{48} \\bigl( n^3-\\frac{5}{16}n^5  \\bigr) & \\\\\n",
    "    A_4 =  \\frac{315}{512} n^4 & \\\\\n",
    "    A_5 =  -\\frac{693}{1280}n^5 &\n",
    "  \\end{cases}\n",
    "\\end{eqnarray}\n",
    "$$\n",
    "\n",
    "- $\\beta _i(i=1, 2, ..., 5)$\n",
    "$$\n",
    "\\begin{eqnarray}\n",
    "  \\begin{cases}\n",
    "    \\beta_1 =  \\frac{1}{2}n - \\frac{2}{3}n^2 + \\frac{37}{96}n^3 -\\frac{1}{360}n^4 - \\frac{81}{512}n^5 & \\\\\n",
    "    \\beta_2 =  \\frac{1}{48}n^2 + \\frac{1}{15}n^3 - \\frac{437}{1440}n^4 + \\frac{46}{105}n^5 & \\\\\n",
    "    \\beta_3 =  \\frac{17}{480}n^3 - \\frac{37}{840}n^4 - \\frac{209}{4480}n^5 & \\\\\n",
    "    \\beta_4 =  \\frac{4397}{161280}n^4 - \\frac{11}{504}n^5 & \\\\\n",
    "    \\beta_5 =  \\frac{4583}{161280}n^5 &\n",
    "  \\end{cases}\n",
    "\\end{eqnarray}\n",
    "$$\n",
    "\n",
    "- $\\delta_i(i=1, 2, ..., 6)$\n",
    "$$\n",
    "\\begin{eqnarray}\n",
    "  \\begin{cases}\n",
    "    \\delta_1 =  2n - \\frac{2}{3}n^2 - 2n^3 + \\frac{116}{45}n^4 + \\frac{26}{45}n^5 - \\frac{2854}{675}n^6 & \\\\\n",
    "    \\delta_2 =  \\frac{7}{3}n^2 - \\frac{8}{5}n^3 - \\frac{227}{45}n^4 + \\frac{2704}{315}n^5 + \\frac{2323}{945}n^6 & \\\\\n",
    "    \\delta_3 =  \\frac{56}{15}n^3 - \\frac{136}{35}n^4 - \\frac{1262}{105}n^5 + \\frac{73814}{2835}n^6 & \\\\\n",
    "    \\delta_4 =  \\frac{4279}{630}n^4 - \\frac{332}{35}n^5 - \\frac{399572}{14175}n^6 & \\\\\n",
    "    \\delta_5 =  \\frac{4174}{315}n^5 - \\frac{144838}{6237}n^6 & \\\\\n",
    "    \\delta_6 =  \\frac{601676}{22275}n^6   &\n",
    "  \\end{cases}\n",
    "\\end{eqnarray}\n",
    "$$\n",
    "\n",
    "#### (2) $\\overline{S}_{\\phi_0}, \\overline{A}$ の計算\n",
    "今までで定義したものから以下のように $\\overline{S}_{\\phi_0}, \\overline{A}$を計算する。\n",
    "\n",
    "ここでは$\\phi_0$をラジアンとしているため、[国土地理院の計算式](http://vldb.gsi.go.jp/sokuchi/surveycalc/surveycalc/algorithm/xy2bl/xy2bl.htm)の$\\rho^{\"}$を除いていることに注意。\n",
    "$$\n",
    "\\overline{S}_{\\phi_0} = \\frac{m_0 a}{1+n} \\biggl( A_0 \\phi_0 + \\sum_{j=1}^5 A_j sin(2j\\phi_0) \\biggr)\n",
    "$$\n",
    "\n",
    "$$\n",
    "\\overline{A} = \\frac{m_0 a}{1+n} A_0\n",
    "$$\n",
    "\n",
    "#### (3) $\\xi, \\eta$ の計算\n",
    "(2)で計算した$\\overline{S}_{\\phi_0}, \\overline{A}$と変換したい座標$x, y$から、以下のように$\\xi, \\eta$を計算する。\n",
    "\\begin{eqnarray}\n",
    "  \\begin{cases}\n",
    "    \\xi = \\frac{x + \\overline{S}_{\\phi_0}}{\\overline{A}} & \\\\\n",
    "    \\eta = \\frac{y}{\\overline{A}} & \n",
    "  \\end{cases}\n",
    "\\end{eqnarray}\n",
    "\n",
    "#### (4) $\\xi^{'}, \\eta^{'}$ の計算\n",
    "(3)で計算した$\\xi, \\eta$と(1)で計算した$\\beta_i$から、以下のように$\\xi^{'}, \\eta^{'}$を計算する。\n",
    "\\begin{eqnarray}\n",
    "  \\begin{cases}\n",
    "    \\xi^{'} = \\xi - \\sum_{j=1}^5 \\beta_j sin(2j\\xi) cosh(2j\\eta) & \\\\\n",
    "    \\eta^{'} = \\eta - \\sum_{j=1}^5 \\beta_j cos(2j\\xi) sinh(2j\\eta) &\n",
    "  \\end{cases}\n",
    "\\end{eqnarray}\n",
    "\n",
    "#### (5) $\\chi$ の計算\n",
    "(4)で計算した $\\xi^{'}, \\eta^{'}$ から、以下のように $\\chi\\: [rad]$を計算する。\n",
    "\n",
    "$$\n",
    "\\chi = sin^{-1} \\biggl( \\frac{sin \\: \\xi^{'}}{cosh \\: \\eta{'}} \\biggr) \\:\\: [rad]\n",
    "$$\n",
    "\n",
    "#### (6) 緯度$\\phi$, 経度$\\lambda$の計算\n",
    "ここまでで求めたものから、以下のように緯度$\\phi$, 経度$\\lambda$ [rad]を計算する。\n",
    "ここでは$\\phi, \\lambda$ をラジアンとしているため、[国土地理院の計算式](http://vldb.gsi.go.jp/sokuchi/surveycalc/surveycalc/algorithm/xy2bl/xy2bl.htm)の$\\rho^{\"}$を除いていることに注意。\n",
    "\n",
    "- 緯度\n",
    "$$\n",
    "\\phi = \\chi + \\sum_{j=1}^6 \\delta_j sin(2j\\chi) \\:\\: [rad]\n",
    "$$\n",
    "- 経度\n",
    "$$\n",
    "\\lambda = \\lambda_0 + tan^{-1} \\biggl( \\frac{sinh \\: \\eta^{'}}{cos \\: \\xi{'}} \\biggr) \\:\\: [rad]\n",
    "$$"
   ]
  },
  {
   "cell_type": "markdown",
   "metadata": {},
   "source": [
    "## 2. 実装\n",
    "### 2.1. import"
   ]
  },
  {
   "cell_type": "code",
   "execution_count": 1,
   "metadata": {
    "collapsed": true
   },
   "outputs": [],
   "source": [
    "import numpy as np"
   ]
  },
  {
   "cell_type": "markdown",
   "metadata": {},
   "source": [
    "## 2.2. 平面直角座標 -> 緯度経度の関数"
   ]
  },
  {
   "cell_type": "code",
   "execution_count": 2,
   "metadata": {
    "collapsed": false
   },
   "outputs": [],
   "source": [
    "def calc_lat_lon(x, y, phi0_deg, lambda0_deg):\n",
    "    \"\"\" 平面直角座標を緯度経度に変換する\n",
    "    - input:\n",
    "        (x, y): 変換したいx, y座標[m]\n",
    "        (phi0, lambda0): 平面直角座標系原点の緯度・経度[度]（分・秒でなく小数であることに注意）\n",
    "    - output:\n",
    "        latitude:  緯度[度]\n",
    "        longitude: 経度[度]\n",
    "        * 小数点以下は分・秒ではないことに注意\n",
    "    \"\"\"\n",
    "    # 平面直角座標系原点をラジアンに直す\n",
    "    phi0_rad = np.deg2rad(phi0_deg)\n",
    "    lambda0_rad = np.deg2rad(lambda0_deg)\n",
    "    \n",
    "    # 補助関数\n",
    "    def A_array(n):\n",
    "        A0 = 1 + (n**2)/4. + (n**4)/64.\n",
    "        A1 = -     (3./2)*( n - (n**3)/8. - (n**5)/64. ) \n",
    "        A2 =     (15./16)*( n**2 - (n**4)/4. )\n",
    "        A3 = -   (35./48)*( n**3 - (5./16)*(n**5) )\n",
    "        A4 =   (315./512)*( n**4 )\n",
    "        A5 = -(693./1280)*( n**5 )\n",
    "        return np.array([A0, A1, A2, A3, A4, A5])\n",
    "  \n",
    "    def beta_array(n):\n",
    "        b0 = np.nan # dummy\n",
    "        b1 = (1./2)*n - (2./3)*(n**2) + (37./96)*(n**3) - (1./360)*(n**4) - (81./512)*(n**5)\n",
    "        b2 = (1./48)*(n**2) + (1./15)*(n**3) - (437./1440)*(n**4) + (46./105)*(n**5)\n",
    "        b3 = (17./480)*(n**3) - (37./840)*(n**4) - (209./4480)*(n**5)\n",
    "        b4 = (4397./161280)*(n**4) - (11./504)*(n**5)\n",
    "        b5 = (4583./161280)*(n**5)\n",
    "        return np.array([b0, b1, b2, b3, b4, b5])\n",
    "    \n",
    "    def delta_array(n):\n",
    "        d0 = np.nan # dummy\n",
    "        d1 = 2.*n - (2./3)*(n**2) - 2.*(n**3) + (116./45)*(n**4) + (26./45)*(n**5) - (2854./675)*(n**6)\n",
    "        d2 = (7./3)*(n**2) - (8./5)*(n**3) - (227./45)*(n**4) + (2704./315)*(n**5) + (2323./945)*(n**6)\n",
    "        d3 = (56./15)*(n**3) - (136./35)*(n**4) - (1262./105)*(n**5) + (73814./2835)*(n**6)\n",
    "        d4 = (4279./630)*(n**4) - (332./35)*(n**5) - (399572./14175)*(n**6)\n",
    "        d5 = (4174./315)*(n**5) - (144838./6237)*(n**6)\n",
    "        d6 = (601676./22275)*(n**6)\n",
    "        return np.array([d0, d1, d2, d3, d4, d5, d6])\n",
    "    \n",
    "    # 定数 (a, F: 世界測地系-測地基準系1980（GRS80）楕円体)\n",
    "    m0 = 0.9999 \n",
    "    a = 6378137.\n",
    "    F = 298.257222101\n",
    "    \n",
    "    # (1) n, A_i, beta_i, delta_iの計算\n",
    "    n = 1. / (2*F - 1)\n",
    "    A_array = A_array(n)\n",
    "    beta_array = beta_array(n)\n",
    "    delta_array = delta_array(n)\n",
    "        \n",
    "    # (2), S, Aの計算\n",
    "    A_ = ( (m0*a)/(1.+n) )*A_array[0]\n",
    "    S_ = ( (m0*a)/(1.+n) )*( A_array[0]*phi0_rad + np.dot(A_array[1:], np.sin(2*phi0_rad*np.arange(1,6))) )\n",
    "    \n",
    "    # (3) xi, etaの計算\n",
    "    xi = (x + S_) / A_\n",
    "    eta = y / A_\n",
    "\n",
    "    # (4) xi', eta'の計算\n",
    "    xi2 = xi - np.sum(np.multiply(beta_array[1:], \n",
    "                                  np.multiply(np.sin(2*xi*np.arange(1,6)),\n",
    "                                              np.cosh(2*eta*np.arange(1,6)))))\n",
    "    eta2 = eta - np.sum(np.multiply(beta_array[1:],\n",
    "                                   np.multiply(np.cos(2*xi*np.arange(1,6)),\n",
    "                                               np.sinh(2*eta*np.arange(1,6)))))\n",
    "    \n",
    "    # (5) chiの計算\n",
    "    chi = np.arcsin( np.sin(xi2)/np.cosh(eta2) ) # [rad]\n",
    "    latitude = chi + np.dot(delta_array[1:], np.sin(2*chi*np.arange(1, 7))) # [rad]\n",
    "\n",
    "    # (6) 緯度(latitude), 経度(longitude)の計算\n",
    "    longitude = lambda0_rad + np.arctan( np.sinh(eta2)/np.cos(xi2) ) # [rad]\n",
    "    \n",
    "    # ラジアンを度になおしてreturn\n",
    "    return np.rad2deg(latitude), np.rad2deg(longitude) # [deg]"
   ]
  },
  {
   "cell_type": "markdown",
   "metadata": {},
   "source": [
    "### 2.3. 実数の角度[度]を33°06′14.85664″みたいに度・分・秒表記のstringに変換する関数"
   ]
  },
  {
   "cell_type": "code",
   "execution_count": 3,
   "metadata": {
    "collapsed": true
   },
   "outputs": [],
   "source": [
    "def show_angle(deg):\n",
    "    \"\"\" 小数点の角度[deg]を度,分,秒で表記 \"\"\"\n",
    "    d = int(np.floor(lat))\n",
    "    m = int(np.floor((deg%1) * 60))\n",
    "    s = ( ((deg%1)*60) % 1 ) * 60\n",
    "    return \"\"\" {0}°{1:02d}'{2}\" \"\"\".format(d, m, s) # 分は10の位を0埋めする"
   ]
  },
  {
   "cell_type": "markdown",
   "metadata": {},
   "source": [
    "### 2.4. テスト\n",
    "[国土地理院の換算サービス](http://vldb.gsi.go.jp/sokuchi/surveycalc/surveycalc/xy2blf.html)と比較\n",
    "\n",
    "-> OK"
   ]
  },
  {
   "cell_type": "code",
   "execution_count": 4,
   "metadata": {
    "collapsed": false
   },
   "outputs": [
    {
     "name": "stdout",
     "output_type": "stream",
     "text": [
      " latitude:  33°06'14.8566427979\" \n",
      "longitude:  33°14'35.3709252452\" \n"
     ]
    }
   ],
   "source": [
    "lat, lon = calc_lat_lon(11573.375, 22694.980, 33., 131.)\n",
    "print \" latitude: {0}\".format(show_angle(lat))\n",
    "print \"longitude: {0}\".format(show_angle(lon))"
   ]
  }
 ],
 "metadata": {
  "kernelspec": {
   "display_name": "Python 2",
   "language": "python",
   "name": "python2"
  },
  "language_info": {
   "codemirror_mode": {
    "name": "ipython",
    "version": 2
   },
   "file_extension": ".py",
   "mimetype": "text/x-python",
   "name": "python",
   "nbconvert_exporter": "python",
   "pygments_lexer": "ipython2",
   "version": "2.7.6"
  },
  "toc": {
   "colors": {
    "hover_highlight": "#DAA520",
    "running_highlight": "#FF0000",
    "selected_highlight": "#FFD700"
   },
   "moveMenuLeft": true,
   "nav_menu": {
    "height": "85px",
    "width": "252px"
   },
   "navigate_menu": true,
   "number_sections": false,
   "sideBar": true,
   "threshold": 4,
   "toc_cell": false,
   "toc_section_display": "block",
   "toc_window_display": false
  },
  "widgets": {
   "state": {},
   "version": "1.0.0"
  }
 },
 "nbformat": 4,
 "nbformat_minor": 0
}
